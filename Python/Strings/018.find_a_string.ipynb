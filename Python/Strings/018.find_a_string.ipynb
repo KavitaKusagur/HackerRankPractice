{
 "cells": [
  {
   "cell_type": "code",
   "execution_count": 2,
   "metadata": {},
   "outputs": [
    {
     "name": "stdout",
     "output_type": "stream",
     "text": [
      "ABCDCDC\n",
      "CDC\n",
      "--------------------------------------------------------------------------------------------------------------\n",
      "2\n"
     ]
    }
   ],
   "source": [
    "# Problem : https://www.hackerrank.com/challenges/find-a-string/problem\n",
    "# Score : 10\n",
    "\n",
    "def count_substring(string, sub_string):\n",
    "    return (sum([1 for i in range(0, len(string) - len(sub_string) + 1) if (string[i:(len(sub_string)+i)] == sub_string)]))\n",
    "\n",
    "string = input().strip()\n",
    "sub_string = input().strip()\n",
    "    \n",
    "count = count_substring(string, sub_string)\n",
    "print('-'*110)\n",
    "print(count)"
   ]
  }
 ],
 "metadata": {
  "kernelspec": {
   "display_name": "Python 3",
   "language": "python",
   "name": "python3"
  },
  "language_info": {
   "codemirror_mode": {
    "name": "ipython",
    "version": 3
   },
   "file_extension": ".py",
   "mimetype": "text/x-python",
   "name": "python",
   "nbconvert_exporter": "python",
   "pygments_lexer": "ipython3",
   "version": "3.7.0"
  }
 },
 "nbformat": 4,
 "nbformat_minor": 2
}
