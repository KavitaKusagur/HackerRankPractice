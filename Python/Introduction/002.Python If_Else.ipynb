{
 "cells": [
  {
   "cell_type": "code",
   "execution_count": 1,
   "metadata": {},
   "outputs": [
    {
     "name": "stdout",
     "output_type": "stream",
     "text": [
      "15\n",
      "Weird\n"
     ]
    }
   ],
   "source": [
    "#Problem : https://www.hackerrank.com/challenges/py-if-else/problem\n",
    "#Score : 10\n",
    "\n",
    "N = int(input())\n",
    "if N % 2 == 0:\n",
    "    if (N >= 2 and N <= 5):\n",
    "        print(\"Not Weird\")\n",
    "    elif (N >= 6 and N <= 20):\n",
    "        print(\"Weird\")\n",
    "    elif N > 20:\n",
    "        print(\"Not Weird\")\n",
    "else:\n",
    "    print(\"Weird\")\n"
   ]
  }
 ],
 "metadata": {
  "kernelspec": {
   "display_name": "Python 3",
   "language": "python",
   "name": "python3"
  },
  "language_info": {
   "codemirror_mode": {
    "name": "ipython",
    "version": 3
   },
   "file_extension": ".py",
   "mimetype": "text/x-python",
   "name": "python",
   "nbconvert_exporter": "python",
   "pygments_lexer": "ipython3",
   "version": "3.7.0"
  }
 },
 "nbformat": 4,
 "nbformat_minor": 2
}
