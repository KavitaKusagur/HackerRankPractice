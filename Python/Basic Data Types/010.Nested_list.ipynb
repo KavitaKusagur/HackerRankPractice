{
 "cells": [
  {
   "cell_type": "code",
   "execution_count": 1,
   "metadata": {},
   "outputs": [
    {
     "name": "stdout",
     "output_type": "stream",
     "text": [
      "5\n",
      "Harry\n",
      "37.21\n",
      "Berry\n",
      "37.21\n",
      "Tina\n",
      "37.2\n",
      "Akriti\n",
      "41\n",
      "Harsh\n",
      "39\n",
      "------------------------------------------------------------------------------------------\n",
      "Berry\n",
      "Harry\n"
     ]
    }
   ],
   "source": [
    "# Problem : https://www.hackerrank.com/challenges/nested-list/problem\n",
    "# Score : 10\n",
    "\n",
    "marksheet = []\n",
    "\n",
    "n = int(input())\n",
    "marksheet = [[input(), float(input())] for _ in range(n)]\n",
    "second_highest = sorted(list(set([score for name, score in marksheet])))[1]\n",
    "print('-'*90)\n",
    "print('\\n'.join([a for a,b in sorted(marksheet) if b == second_highest]))\n",
    "        "
   ]
  }
 ],
 "metadata": {
  "kernelspec": {
   "display_name": "Python 3",
   "language": "python",
   "name": "python3"
  },
  "language_info": {
   "codemirror_mode": {
    "name": "ipython",
    "version": 3
   },
   "file_extension": ".py",
   "mimetype": "text/x-python",
   "name": "python",
   "nbconvert_exporter": "python",
   "pygments_lexer": "ipython3",
   "version": "3.7.0"
  }
 },
 "nbformat": 4,
 "nbformat_minor": 2
}
