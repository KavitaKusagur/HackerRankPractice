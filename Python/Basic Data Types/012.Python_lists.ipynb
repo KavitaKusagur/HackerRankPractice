{
 "cells": [
  {
   "cell_type": "code",
   "execution_count": 3,
   "metadata": {},
   "outputs": [
    {
     "name": "stdout",
     "output_type": "stream",
     "text": [
      "12\n",
      "insert 0 5\n",
      "insert 1 10\n",
      "insert 0 6\n",
      "print\n",
      "-------------------------------------------------------------------------------------------------------------------------------\n",
      "[6, 5, 10]\n",
      "remove 6\n",
      "append 9\n",
      "append 1\n",
      "sort\n",
      "print\n",
      "-------------------------------------------------------------------------------------------------------------------------------\n",
      "[1, 5, 9, 10]\n",
      "pop\n",
      "reverse\n",
      "print\n",
      "-------------------------------------------------------------------------------------------------------------------------------\n",
      "[9, 5, 1]\n"
     ]
    }
   ],
   "source": [
    "# Problem : https://www.hackerrank.com/challenges/python-lists/problem\n",
    "# Score : 10\n",
    "\n",
    "N = int(input())\n",
    "    \n",
    "lst = []\n",
    "for i in range(N):\n",
    "    mstr = input().split()\n",
    "    cmd = mstr[0]\n",
    "    args = mstr[1:]\n",
    "    if cmd !=\"print\":\n",
    "        cmd += \"(\"+ \",\".join(args) +\")\"\n",
    "        eval(\"lst.\"+cmd)\n",
    "    else:\n",
    "        print('-'*127)\n",
    "        print (lst)\n",
    "    "
   ]
  }
 ],
 "metadata": {
  "kernelspec": {
   "display_name": "Python 3",
   "language": "python",
   "name": "python3"
  },
  "language_info": {
   "codemirror_mode": {
    "name": "ipython",
    "version": 3
   },
   "file_extension": ".py",
   "mimetype": "text/x-python",
   "name": "python",
   "nbconvert_exporter": "python",
   "pygments_lexer": "ipython3",
   "version": "3.7.0"
  }
 },
 "nbformat": 4,
 "nbformat_minor": 2
}
